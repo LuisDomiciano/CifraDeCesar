{
 "cells": [
  {
   "cell_type": "markdown",
   "metadata": {},
   "source": [
    "# Acessando API para obtenção do texto criptografado"
   ]
  },
  {
   "cell_type": "code",
   "execution_count": null,
   "metadata": {},
   "outputs": [],
   "source": [
    "import requests\n",
    "import json\n",
    "response = requests.get(\"https://api.codenation.dev/v1/challenge/dev-ps/generate-data?Token_usuario\")\n",
    "data = json.loads(response.content)"
   ]
  },
  {
   "cell_type": "markdown",
   "metadata": {},
   "source": [
    "# Visualizando o conteúdo do arquivo Json"
   ]
  },
  {
   "cell_type": "code",
   "execution_count": null,
   "metadata": {},
   "outputs": [],
   "source": [
    "data"
   ]
  },
  {
   "cell_type": "markdown",
   "metadata": {},
   "source": [
    "# Criando arquivo answer.json"
   ]
  },
  {
   "cell_type": "code",
   "execution_count": null,
   "metadata": {},
   "outputs": [],
   "source": [
    "with open ('answer.json','w') as file:\n",
    "    file.write(json.dumps(data))\n",
    "\n",
    "with open('answer.json','r') as file:\n",
    "    text = file.read()\n",
    "    data = json.loads(text)"
   ]
  },
  {
   "cell_type": "code",
   "execution_count": null,
   "metadata": {},
   "outputs": [],
   "source": [
    "alfa = ['a','b','c','d','e','f','g','h','i','j','k','l','m','n','o','p','q','r','s','t','u','v','w','x','y','z']\n",
    "beta = []\n",
    "house = data['numero_casas']\n",
    "\n",
    "for item in range(len(alfa)):\n",
    "    if (item + house < len(alfa)):\n",
    "        beta.append(alfa[item+house])\n",
    "    else:\n",
    "        house = 12\n",
    "        indice = item\n",
    "        start = len(alfa) - indice\n",
    "        house = abs(start - house)\n",
    "        beta.append(alfa[house])\n",
    "\n",
    "def returnIndex(letter):\n",
    "    return beta.index(letter)\n",
    "\n",
    "def returnDescrypted (index):\n",
    "    return alfa[index]\n",
    "\n",
    "text_input = data['cifrado']\n",
    "text_input = text_input.lower()\n",
    "text_out = ''\n",
    "\n",
    "for item in range(len(text_input)):\n",
    "    if text_input[item] in beta:\n",
    "        text_out += returnDescrypted(returnIndex(text_input[item]))\n",
    "    else:\n",
    "        text_out += text_input[item]\n",
    "\n",
    "data['decifrado'] = text_out\n",
    "with open ('answer.json','w',encoding='utf-8') as file:\n",
    "    file.write(json.dumps(data))\n"
   ]
  },
  {
   "cell_type": "markdown",
   "metadata": {},
   "source": [
    "# Gerando resumo criptografado Sha1"
   ]
  },
  {
   "cell_type": "code",
   "execution_count": null,
   "metadata": {},
   "outputs": [],
   "source": [
    "import hashlib\n",
    "print(data['decifrado'])\n",
    "test = data['decifrado']\n",
    "resum = hashlib.sha1(test.encode('utf-8')).hexdigest()\n",
    "data['resumo_criptografico'] = resum\n",
    "with open ('answer.json','w',encoding='utf-8') as file:\n",
    "    file.write(json.dumps(data))\n"
   ]
  },
  {
   "cell_type": "code",
   "execution_count": null,
   "metadata": {},
   "outputs": [],
   "source": [
    "data"
   ]
  },
  {
   "cell_type": "markdown",
   "metadata": {},
   "source": [
    "# Enviando reposta para api da codenation"
   ]
  },
  {
   "cell_type": "code",
   "execution_count": null,
   "metadata": {},
   "outputs": [],
   "source": [
    "answer= data\n",
    "answer\n",
    "resp = requests.post('https://api.codenation.dev/v1/challenge/dev-ps/submit-solution?Token_usuario',json=answer)\n"
   ]
  }
 ],
 "metadata": {
  "kernelspec": {
   "display_name": "Python 3",
   "language": "python",
   "name": "python3"
  },
  "language_info": {
   "codemirror_mode": {
    "name": "ipython",
    "version": 3
   },
   "file_extension": ".py",
   "mimetype": "text/x-python",
   "name": "python",
   "nbconvert_exporter": "python",
   "pygments_lexer": "ipython3",
   "version": "3.7.3"
  }
 },
 "nbformat": 4,
 "nbformat_minor": 2
}
